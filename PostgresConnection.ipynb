{
 "cells": [
  {
   "cell_type": "code",
   "execution_count": null,
   "id": "23ad3c09",
   "metadata": {},
   "outputs": [],
   "source": [
    "import psycopg2\n",
    "import pandas as pd\n",
    "\n",
    "\n",
    "def get_conn(host, port, database, user, password):\n",
    "    connection=psycopg2.connect(\n",
    "                                host=host,\n",
    "                                port=port,\n",
    "                                database=database,\n",
    "                                user=user,\n",
    "                                password=password\n",
    "                                )\n",
    "    return connection\n",
    "\n",
    "\n",
    "def close_conn(connection):\n",
    "    if connection:\n",
    "        connection.close()\n",
    "\n",
    "\n",
    "\n",
    "\n",
    "def read_query(query, connection):\n",
    "    connection=connection\n",
    "    query=query\n",
    "    result = pd.read_sql_query(query, connection)\n",
    "    connection.close()\n",
    "    return result\n",
    "\n",
    "conn = get_conn(\"localhost\", \"1111\", \"python_db\", \"postgres\", \"xxx\")\n",
    "read_query(\"SELECT * FROM mobile\", conn)"
   ]
  }
 ],
 "metadata": {
  "kernelspec": {
   "display_name": "Python 3",
   "language": "python",
   "name": "python3"
  },
  "language_info": {
   "codemirror_mode": {
    "name": "ipython",
    "version": 3
   },
   "file_extension": ".py",
   "mimetype": "text/x-python",
   "name": "python",
   "nbconvert_exporter": "python",
   "pygments_lexer": "ipython3",
   "version": "3.8.8"
  }
 },
 "nbformat": 4,
 "nbformat_minor": 5
}
